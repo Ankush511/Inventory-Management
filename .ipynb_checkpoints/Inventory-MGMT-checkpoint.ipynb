{
 "cells": [
  {
   "cell_type": "markdown",
   "id": "68231f3b",
   "metadata": {},
   "source": [
    "## Product Details\n",
    "1. Product Id\n",
    "2. Name of product\n",
    "3. Price of product\n",
    "4. Quantity"
   ]
  },
  {
   "cell_type": "code",
   "execution_count": 2,
   "id": "fbca6fef",
   "metadata": {},
   "outputs": [
    {
     "name": "stdout",
     "output_type": "stream",
     "text": [
      "Enter product id: 2\n",
      "Enter the quantity: 102\n",
      "Sorry, we're not having enough quantity.\n",
      "We're having only 100 quantity.\n",
      "Would you like to purchase it?\n",
      "Press Y/N : Y\n",
      "----------------------------------\n",
      "Product Name      :  Milky Bar\n",
      "Price             :  10\n",
      "Quantity          :  100\n",
      "----------------------------------\n",
      "Billing Amount    :  1000\n",
      "----------------------------------\n",
      "--------------------------\n",
      "Inventory Updated\n"
     ]
    }
   ],
   "source": [
    "fd = open('Inventory.txt', 'r')\n",
    "products = fd.read().split('\\n')\n",
    "fd.close()\n",
    "\n",
    "usr_prod_input = input(\"Enter product id: \")\n",
    "usr_quant = input(\"Enter the quantity: \")\n",
    "\n",
    "updated_prod_lst = []\n",
    "\n",
    "for product in products:\n",
    "\n",
    "    prod = product.split(',')\n",
    "    \n",
    "    if (prod[0] == usr_prod_input):\n",
    "        \n",
    "        if(int(usr_quant) <= int(prod[3])):\n",
    "            \n",
    "            print(\"----------------------------------\")\n",
    "            print(\"Product Name      : \", prod[1])\n",
    "            print(\"Price             : \", prod[2])\n",
    "            print(\"Quantity          : \", usr_quant)\n",
    "            print(\"----------------------------------\")\n",
    "            print(\"Billing Amount    : \", int(prod[2]) * int(usr_quant))\n",
    "            print(\"----------------------------------\")\n",
    "\n",
    "            prod[3] = str(int(prod[3]) - int(usr_quant))\n",
    "            \n",
    "        else:\n",
    "            print(\"Sorry, we're not having enough quantity.\")\n",
    "            print(\"We're having only\",prod[3],\"quantity.\")\n",
    "            print(\"Would you like to purchase it?\")\n",
    "            \n",
    "            ch = input(\"Press Y/N : \")\n",
    "            \n",
    "            if(ch == 'Y' or ch == 'y'):\n",
    "                print(\"----------------------------------\")\n",
    "                print(\"Product Name      : \", prod[1])\n",
    "                print(\"Price             : \", prod[2])\n",
    "                print(\"Quantity          : \", prod[3])\n",
    "                print(\"----------------------------------\")\n",
    "                print(\"Billing Amount    : \", int(prod[2]) * int(prod[3]))\n",
    "                print(\"----------------------------------\")\n",
    "\n",
    "                prod[3] = '0'\n",
    "                \n",
    "            else:\n",
    "                print(\"Thanks\")\n",
    "    \n",
    "    updated_prod_lst.append(prod)\n",
    "    \n",
    "lst = []\n",
    "\n",
    "for i in updated_prod_lst:\n",
    "    pr = i[0]+','+i[1]+','+i[2]+','+i[3]+'\\n'\n",
    "    lst.append(pr)\n",
    "\n",
    "lst[-1] = lst[-1][:-1]\n",
    "\n",
    "fd = open('Inventory.txt', 'w')\n",
    "\n",
    "for i in lst:\n",
    "    fd.write(i)\n",
    "    \n",
    "fd.close()\n",
    "\n",
    "print(\"----------------------------------\")\n",
    "print(\"Inventory Updated\")"
   ]
  },
  {
   "cell_type": "code",
   "execution_count": null,
   "id": "a5dd7734",
   "metadata": {},
   "outputs": [],
   "source": []
  }
 ],
 "metadata": {
  "kernelspec": {
   "display_name": "Python 3 (ipykernel)",
   "language": "python",
   "name": "python3"
  },
  "language_info": {
   "codemirror_mode": {
    "name": "ipython",
    "version": 3
   },
   "file_extension": ".py",
   "mimetype": "text/x-python",
   "name": "python",
   "nbconvert_exporter": "python",
   "pygments_lexer": "ipython3",
   "version": "3.11.5"
  }
 },
 "nbformat": 4,
 "nbformat_minor": 5
}
