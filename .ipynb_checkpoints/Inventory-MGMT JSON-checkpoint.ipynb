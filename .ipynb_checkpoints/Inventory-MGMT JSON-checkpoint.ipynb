{
 "cells": [
  {
   "cell_type": "code",
   "execution_count": 13,
   "id": "6ac11d39",
   "metadata": {},
   "outputs": [
    {
     "name": "stdout",
     "output_type": "stream",
     "text": [
      "---------------MENU------------------\n",
      "\n",
      "1001 : 5 Star | 10 | 150\n",
      "1002 : Dairy Milk | 15 | 100\n",
      "1003 : Milkybar | 10 | 150\n",
      "1004 : Cake | 300 | 5\n",
      "1005 : Bar-one | 20 | 50\n",
      "-------------------------------------\n",
      "\n",
      "Enter your name   : Ankush\n",
      "Enter your mail   : ankush@gmail.com\n",
      "Enter phone no.  : 6353292883\n",
      "Enter Product Id   : 1002\n",
      "Enter Quantity      : 10\n",
      "\n",
      "----------------Bill-------------------\n",
      "\n",
      "Product Name  :  Dairy Milk\n",
      "Product Price :  15 Rs\n",
      "Quantity      :  10\n",
      "-------------------------------------\n",
      "Bill Amount   :  150 Rs\n",
      "Thanks, Visit Again.\n"
     ]
    }
   ],
   "source": [
    "import json\n",
    "import time\n",
    "\n",
    "sale = ''\n",
    "\n",
    "fd = open('Records.json', 'r')\n",
    "js = fd.read()\n",
    "fd.close()\n",
    "\n",
    "record = json.loads(js)\n",
    "\n",
    "\n",
    "print(\"---------------MENU------------------\\n\")\n",
    "\n",
    "for key in record.keys():\n",
    "    print(key,\":\",record[key]['Name'],\"|\",record[key]['Price'],\"|\",record[key]['Qn'])\n",
    "    \n",
    "print(\"-------------------------------------\\n\")\n",
    "\n",
    "uname = str(input(\"Enter your name   : \"))\n",
    "umail = str(input(\"Enter your mail   : \"))\n",
    "uphone = str(input(\"Enter phone no.  : \"))\n",
    "upid = str(input(\"Enter Product Id   : \"))\n",
    "uqn = int(input(\"Enter Quantity      : \"))\n",
    "\n",
    "\n",
    "if (uqn <= record[upid]['Qn']):\n",
    "    record[upid]['Qn'] = record[upid]['Qn'] - uqn\n",
    "    \n",
    "    print(\"\\n----------------Bill-------------------\\n\")\n",
    "\n",
    "    print(\"Product Name  : \",record[upid]['Name'])\n",
    "    print(\"Product Price : \",record[upid]['Price'],\"Rs\")\n",
    "    print(\"Quantity      : \",uqn)\n",
    "\n",
    "    print(\"-------------------------------------\")\n",
    "\n",
    "    print(\"Bill Amount   : \", record[upid]['Price'] * uqn, \"Rs\")\n",
    "\n",
    "    sale = uname+\",\"+umail+\",\"+uphone+\",\"+upid+\",\"+record[upid][\"Name\"]+\",\"+str(uqn)+\",\"+str(record[upid][\"Price\"])+\",\"+str(uqn * record[upid][\"Price\"])+\",\"+time.ctime()+'\\n'\n",
    "\n",
    "    \n",
    "else:\n",
    "    print(\"Sorry we're not having enough quantity.\")\n",
    "    print(\"We are having only\", record[upid]['Qn'],\"quantity.\")\n",
    "    print(\"Would you like to purchase it?\")\n",
    "    \n",
    "    ch = input('Press Y/N : ')\n",
    "    \n",
    "    if (ch == 'Y' or ch == 'y'):\n",
    "        \n",
    "        print(\"\\n--------------Bill-----------------\\n\")\n",
    "\n",
    "        print(\"Product Name  : \",record[upid]['Name'])\n",
    "        print(\"Product Price : \",record[upid]['Price'],\"Rs\")\n",
    "        print(\"Quantity      : \",record[upid]['Qn'])\n",
    "\n",
    "        print(\"-------------------------------------\")\n",
    "\n",
    "        print(\"Bill Amount   : \", record[upid]['Price'] * record[upid]['Qn'], \"Rs\")\n",
    "        \n",
    "        record[upid]['Qn'] = 0\n",
    "\n",
    "        sale = uname+\",\"+umail+\",\"+uphone+\",\"+upid+\",\"+record[upid][\"Name\"]+\",\"+str(record[upid]['Qn'])+\",\"+str(record[upid][\"Price\"])+\",\"+str(record[upid]['Qn'] * record[upid][\"Price\"])+\",\"+time.ctime()+'\\n'\n",
    "\n",
    "    else:\n",
    "        print(\"-------------------------------------\")\n",
    "        \n",
    "\n",
    "js = json.dumps(record)\n",
    "\n",
    "fd = open('Records.json', 'w')\n",
    "fd.write(js)\n",
    "fd.close()\n",
    "\n",
    "fd = open('Sales-Json.txt', 'a')\n",
    "fd.write(sale)\n",
    "fd.close()\n",
    "\n",
    "print(\"-------------------------------------\")\n",
    "print(\"Thanks, Visit Again.\")"
   ]
  },
  {
   "cell_type": "code",
   "execution_count": 11,
   "id": "2c9ce5ed",
   "metadata": {},
   "outputs": [
    {
     "data": {
      "text/plain": [
       "'1,Ankush,ankush@gmail.com,6212382934,1004,Cake,4,300,1200,Sat Oct 21 01:06:16 2023'"
      ]
     },
     "execution_count": 11,
     "metadata": {},
     "output_type": "execute_result"
    }
   ],
   "source": [
    "sale"
   ]
  },
  {
   "cell_type": "code",
   "execution_count": null,
   "id": "1fc0c11b",
   "metadata": {},
   "outputs": [],
   "source": []
  }
 ],
 "metadata": {
  "kernelspec": {
   "display_name": "Python 3 (ipykernel)",
   "language": "python",
   "name": "python3"
  },
  "language_info": {
   "codemirror_mode": {
    "name": "ipython",
    "version": 3
   },
   "file_extension": ".py",
   "mimetype": "text/x-python",
   "name": "python",
   "nbconvert_exporter": "python",
   "pygments_lexer": "ipython3",
   "version": "3.11.5"
  }
 },
 "nbformat": 4,
 "nbformat_minor": 5
}
